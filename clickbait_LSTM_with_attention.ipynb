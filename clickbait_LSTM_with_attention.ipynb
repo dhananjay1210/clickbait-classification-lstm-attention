{
 "cells": [
  {
   "cell_type": "code",
   "execution_count": 1,
   "id": "862b830c",
   "metadata": {},
   "outputs": [],
   "source": [
    "import torch\n",
    "from torch.utils.data import Dataset, DataLoader, random_split\n",
    "import torch.nn.functional as F\n",
    "from torch.nn.utils.rnn import pad_sequence, pack_padded_sequence, pad_packed_sequence\n",
    "\n",
    "import numpy as np\n",
    "import pandas as pd\n",
    "import re\n",
    "\n",
    "from tqdm import tqdm\n",
    "import matplotlib.pyplot as plt\n",
    "import os\n",
    "\n",
    "from sklearn.metrics import accuracy_score, f1_score\n",
    "from sklearn.model_selection import train_test_split"
   ]
  },
  {
   "cell_type": "code",
   "execution_count": 2,
   "id": "29b5de39",
   "metadata": {},
   "outputs": [
    {
     "name": "stdout",
     "output_type": "stream",
     "text": [
      "True\n",
      "11.7\n"
     ]
    },
    {
     "data": {
      "text/plain": [
       "1"
      ]
     },
     "execution_count": 2,
     "metadata": {},
     "output_type": "execute_result"
    }
   ],
   "source": [
    "print(torch.cuda.is_available())\n",
    "print(torch.version.cuda)\n",
    "torch.cuda.device_count()"
   ]
  },
  {
   "cell_type": "code",
   "execution_count": 3,
   "id": "04a4a387",
   "metadata": {},
   "outputs": [
    {
     "name": "stdout",
     "output_type": "stream",
     "text": [
      "Using device: cuda:0\n",
      "NVIDIA GeForce GTX 1650\n",
      "Memory Usage:\n",
      "Allocated: 0.0 GB\n",
      "Cached:    0.0 GB\n"
     ]
    }
   ],
   "source": [
    "device = torch.device('cuda:0' if torch.cuda.is_available() else 'cpu')\n",
    "print('Using device:', device)\n",
    "\n",
    "if device.type == 'cuda':\n",
    "    print(torch.cuda.get_device_name(0))\n",
    "    print('Memory Usage:')\n",
    "    print('Allocated:', round(torch.cuda.memory_allocated(0)/1024**3,1), 'GB')\n",
    "    print('Cached:   ', round(torch.cuda.memory_reserved(0)/1024**3,1), 'GB')"
   ]
  },
  {
   "cell_type": "code",
   "execution_count": 4,
   "id": "b62b33c3",
   "metadata": {},
   "outputs": [],
   "source": [
    "class ClickbaitDataset(Dataset):\n",
    "    def __init__(\n",
    "        self,\n",
    "        cb_filepath: str,\n",
    "        non_cb_filepath: str\n",
    "    ):\n",
    "        # initialize data processing params\n",
    "        self.START_TOKEN = '<str>'\n",
    "        self.STOP_TOKEN = '<stp>'\n",
    "        self.UNK_TOKEN = '<unk>'\n",
    "        self.split = 'train'\n",
    "        \n",
    "        # Read the csv using pandas read_csv function.\n",
    "        self.raw_cb_data = []\n",
    "        self.raw_non_cb_data = []\n",
    "        with open(cb_filepath, 'r', encoding=\"utf8\") as fp:\n",
    "            self.raw_cb_data = fp.readlines()\n",
    "        with open(non_cb_filepath, 'r', encoding=\"utf8\") as fp:\n",
    "            self.raw_non_cb_data = fp.readlines()\n",
    "        \n",
    "        self.clean_raw_cb_data = [[sentence, 1.0] for sentence in self.clean_data(self.raw_cb_data)]\n",
    "        self.clean_raw_non_cb_data = [[sentence, 0.0] for sentence in self.clean_data(self.raw_non_cb_data)]\n",
    "        \n",
    "        positive_df = pd.DataFrame(self.clean_raw_cb_data, columns = ['text', 'label'])\n",
    "        negative_df = pd.DataFrame(self.clean_raw_non_cb_data, columns = ['text', 'label'])\n",
    "        self.data = pd.concat([positive_df, negative_df])\n",
    "        \n",
    "        def tokenize(sentence):\n",
    "            return sentence.split()\n",
    "        self.data[\"processed_text\"] = self.data['text'].apply(tokenize)\n",
    "\n",
    "        X = np.array(self.data['processed_text'])\n",
    "        y = np.array(self.data['label'])\n",
    "        X_train, self.X_test, y_train, self.y_test = train_test_split(X, y, test_size=0.10, random_state=42, shuffle=True, stratify=y)\n",
    "        self.X_train, self.X_val, self.y_train, self.y_val = train_test_split(X_train, y_train, test_size=0.20, random_state=42, shuffle=True, stratify=y_train)\n",
    "        \n",
    "        # populate vocab\n",
    "        self.vocab = set([self.START_TOKEN, self.UNK_TOKEN])\n",
    "        self.populate_vocab(self.X_train)\n",
    "        self.vocab = list(self.vocab)\n",
    "        self.n_vocab = len(self.vocab)\n",
    "        \n",
    "        # create word, index mappings\n",
    "        self.text2id = {}\n",
    "        self.id2text = {}\n",
    "        self.generate_text_index_mapping()\n",
    "\n",
    "\n",
    "    def clean_data(self, data_list):\n",
    "        processed_list = []\n",
    "        for sentence in data_list:\n",
    "            if len(sentence) > 10:\n",
    "                sentence = sentence.lower()\n",
    "                sentence = re.sub(r'[^\\w\\s]', ' ', sentence)\n",
    "                sentence = re.sub('\\s+', ' ', sentence)\n",
    "                processed_list.append(self.START_TOKEN + ' ' + sentence + ' ' + self.STOP_TOKEN) # end token for the last sentence in data_list\n",
    "        return processed_list\n",
    "    \n",
    "        \n",
    "    # used while training/validating model. The self.split value is used later in __getitem__() method\n",
    "    def set_split(self, set_to):\n",
    "        if set_to not in ['train', 'val', 'test']:\n",
    "            raise ValueError(\"ClickbaitDataset : set_split() :: set_to parameter should be either 'train' or 'val' or 'test'\")\n",
    "        self.split = set_to\n",
    "\n",
    "    # populate the vocabulary\n",
    "    def populate_vocab(self, train_list):\n",
    "        for sentence in train_list:\n",
    "            for w in sentence:\n",
    "                self.vocab.add(w)\n",
    "\n",
    "    # create vocab word to integer, and integer to vocab word mapping\n",
    "    def generate_text_index_mapping(self):\n",
    "        for i in range(len(self.vocab)):\n",
    "            self.text2id[self.vocab[i]] = i\n",
    "        for k,v in self.text2id.items():\n",
    "            self.id2text[v] = k\n",
    "\n",
    "    def get_text_int_encoding(self, tokens):\n",
    "        encoded_text = np.zeros(len(tokens))\n",
    "        for i in range(len(tokens)):\n",
    "            if tokens[i] in self.text2id:\n",
    "                encoded_text[i] = (self.text2id[tokens[i]])\n",
    "            else:\n",
    "                encoded_text[i] = (self.text2id[self.UNK_TOKEN])\n",
    "        return encoded_text\n",
    "\n",
    "    def __len__(self):\n",
    "        if self.split == 'train':\n",
    "            return len(self.X_train)\n",
    "        elif self.split == 'val':\n",
    "            return len(self.X_val)\n",
    "        elif self.split == 'test':\n",
    "            return len(self.X_test)\n",
    "        else:\n",
    "            raise ValueError(\"ClickbaitDataset : __len__() :: Unknown split value\")\n",
    "\n",
    "    def __getitem__(self, n: int):\n",
    "        if self.split == 'train':\n",
    "            x = self.get_text_int_encoding(self.X_train[n])\n",
    "            y = self.y_train[n]\n",
    "            return torch.tensor(x, dtype=torch.long), torch.tensor(y)\n",
    "        elif self.split == 'val':\n",
    "            x = self.get_text_int_encoding(self.X_val[n])\n",
    "            y = self.y_val[n]\n",
    "            return torch.tensor(x, dtype=torch.long), torch.tensor(y)\n",
    "        elif self.split == 'test':\n",
    "            x = self.get_text_int_encoding(self.X_test[n])\n",
    "            y = self.y_test[n]\n",
    "            return torch.tensor(x, dtype=torch.long), torch.tensor(y)\n",
    "        else:\n",
    "            raise ValueError(\"ClickbaitDataset : __len__() :: Unknown split value\")\n",
    "        "
   ]
  },
  {
   "cell_type": "code",
   "execution_count": 5,
   "id": "87d8ee5e",
   "metadata": {},
   "outputs": [],
   "source": [
    "root_path = os.getcwd()\n",
    "cb_filepath = os.path.join(root_path, \"data\", \"clickbait_data\")\n",
    "non_cb_filepath = os.path.join(root_path, \"data\", \"non_clickbait_data\")"
   ]
  },
  {
   "cell_type": "code",
   "execution_count": 6,
   "id": "69bc2445",
   "metadata": {},
   "outputs": [],
   "source": [
    "# batchify\n",
    "def custom_collate(batch):\n",
    "    (text, label) = zip(*batch)\n",
    "    x_lens = [len(x) for x in text]\n",
    "    x_padded = pad_sequence(text, batch_first=True, padding_value=0).to(device)\n",
    "    y_padded = torch.tensor(label).to(device)\n",
    "    return x_padded, y_padded, torch.tensor(x_lens)"
   ]
  },
  {
   "cell_type": "code",
   "execution_count": 7,
   "id": "8cc7f313",
   "metadata": {
    "scrolled": true
   },
   "outputs": [
    {
     "name": "stdout",
     "output_type": "stream",
     "text": [
      "Train size : 23038\n",
      "Val size : 5760\n",
      "Test size : 3200\n"
     ]
    }
   ],
   "source": [
    "BATCH_SIZE = 256\n",
    "dataset = ClickbaitDataset(cb_filepath, non_cb_filepath)\n",
    "data_loader = DataLoader(dataset, batch_size=BATCH_SIZE, shuffle=True, collate_fn=custom_collate)\n",
    "print(\"Train size :\", len(dataset.X_train))\n",
    "print(\"Val size :\", len(dataset.X_val))\n",
    "print(\"Test size :\", len(dataset.X_test))"
   ]
  },
  {
   "cell_type": "code",
   "execution_count": 8,
   "id": "d0f47b3f",
   "metadata": {},
   "outputs": [
    {
     "name": "stdout",
     "output_type": "stream",
     "text": [
      "Vocab size : 19630\n"
     ]
    }
   ],
   "source": [
    "print(\"Vocab size :\", dataset.n_vocab)"
   ]
  },
  {
   "cell_type": "code",
   "execution_count": 9,
   "id": "f7b2609e",
   "metadata": {},
   "outputs": [
    {
     "name": "stdout",
     "output_type": "stream",
     "text": [
      "Percent of clickbait headlines :  49.9937 %\n"
     ]
    }
   ],
   "source": [
    "print(\"Percent of clickbait headlines : \", round(len(dataset.clean_raw_cb_data) / (len(dataset.clean_raw_cb_data) + len(dataset.clean_raw_non_cb_data)) * 100, 4), \"%\")"
   ]
  },
  {
   "cell_type": "code",
   "execution_count": 10,
   "id": "5a562a35",
   "metadata": {
    "scrolled": true
   },
   "outputs": [
    {
     "name": "stdout",
     "output_type": "stream",
     "text": [
      "torch.Size([256, 18]) torch.Size([256])\n",
      "torch.Size([256, 22]) torch.Size([256])\n",
      "torch.Size([256, 21]) torch.Size([256])\n"
     ]
    }
   ],
   "source": [
    "for _, batch in zip(range(3), data_loader):\n",
    "    #print(batch[0], batch[1])\n",
    "    print(batch[0].shape, batch[1].shape)"
   ]
  },
  {
   "cell_type": "code",
   "execution_count": 11,
   "id": "0bc73cd0",
   "metadata": {},
   "outputs": [],
   "source": [
    "class LSTMAttentionModel(torch.nn.Module):\n",
    "    def __init__(self, input_dim, hid_dim, num_heads, output_dim, n_layers, dropout, is_bidirectional = False, pretrained_emb = None, emb_dim = 300):\n",
    "        super().__init__()\n",
    "        self.hid_dim = hid_dim\n",
    "        self.n_layers = n_layers\n",
    "        self.output_dim = output_dim\n",
    "        self.n_dir = 1\n",
    "        if is_bidirectional:\n",
    "            self.n_dir = 2\n",
    "        \n",
    "        if pretrained_emb is not None:\n",
    "            self.embedding = torch.nn.Embedding.from_pretrained(pretrained_emb, freeze = True)\n",
    "        else:\n",
    "            self.embedding = torch.nn.Embedding(input_dim, emb_dim)\n",
    "        self.lstm = torch.nn.LSTM(emb_dim, hid_dim, num_layers=n_layers, dropout=dropout, batch_first = True, bidirectional = is_bidirectional)\n",
    "        self.multihead_attn = torch.nn.MultiheadAttention(hid_dim, num_heads, batch_first=True) #Initializing the mulitHeadedAttention\n",
    "        self.fc_out = torch.nn.Linear(self.n_dir * hid_dim, output_dim)\n",
    "        self.dropout = torch.nn.Dropout(dropout)\n",
    "        self.softmax = torch.nn.Softmax(dim = 1)\n",
    "\n",
    "    '''\n",
    "    Input :   x_pad = [batch_size, seq_len]\n",
    "    '''\n",
    "    def forward(self, x, x_len):\n",
    "        embedded = self.embedding(x) # embedded : [batch_size, sen_len, emb_dim]\n",
    "        embedded_packed = pack_padded_sequence(embedded, x_len.to('cpu'), batch_first=True, enforce_sorted=False)\n",
    "        output_packed, (hidden, cell) = self.lstm(embedded_packed)\n",
    "        # output_packed = [batch_size, sen_len, hid_dim * n_directions]\n",
    "        # hidden = [n_layers * n_direction, batch_size, hid_dim]\n",
    "        # cell = [n_layers * n_direction, batch_size, hid_dim]\n",
    "        output_unpacked, out_lens = pad_packed_sequence(output_packed, batch_first=True)\n",
    "        # output_unpacked = [batch_size, sen_len, hid_dim * n_directions]\n",
    "        output_attention, attention_weights = self.multihead_attn(output_unpacked, output_unpacked, output_unpacked)\n",
    "        # output_attention = [batch_size, sen_len, hid_dim * n_directions]\n",
    "        output_attention = output_attention.sum(1)\n",
    "        # output_unpacked_avg = [batch_size, hid_dim * n_directions]\n",
    "        drop = self.dropout(output_attention)\n",
    "        prediction = self.fc_out(drop) # prediction : [batch_size, output_dim]\n",
    "        #prediction = prediction.view(-1, self.output_dim) # prediction : [batch_size*seq_len, output_dim]\n",
    "        #softmax = self.softmax(prediction) # softmax : [batch_size, seq_len, output_dim]\n",
    "        #log_soft = F.log_softmax(prediction, dim=1) # log_soft : [batch_size, seq_len, output_dim]\n",
    "        return prediction"
   ]
  },
  {
   "cell_type": "code",
   "execution_count": 12,
   "id": "edbea069",
   "metadata": {},
   "outputs": [],
   "source": [
    "# First initialize our model.\n",
    "INPUT_DIM = dataset.n_vocab # 19630\n",
    "OUTPUT_DIM = 1\n",
    "ENC_EMB_DIM = 300\n",
    "HID_DIM = 64\n",
    "HEADS_ATTENTION = 4\n",
    "N_LAYERS = 1\n",
    "DROPOUT = 0\n",
    "\n",
    "model = LSTMAttentionModel(INPUT_DIM, HID_DIM, HEADS_ATTENTION, OUTPUT_DIM, N_LAYERS, DROPOUT, is_bidirectional=False, pretrained_emb = None, emb_dim = ENC_EMB_DIM).to(device)"
   ]
  },
  {
   "cell_type": "code",
   "execution_count": 13,
   "id": "34e26215",
   "metadata": {},
   "outputs": [
    {
     "data": {
      "text/plain": [
       "LSTMAttentionModel(\n",
       "  (embedding): Embedding(19630, 300)\n",
       "  (lstm): LSTM(300, 64, batch_first=True)\n",
       "  (multihead_attn): MultiheadAttention(\n",
       "    (out_proj): NonDynamicallyQuantizableLinear(in_features=64, out_features=64, bias=True)\n",
       "  )\n",
       "  (fc_out): Linear(in_features=64, out_features=1, bias=True)\n",
       "  (dropout): Dropout(p=0, inplace=False)\n",
       "  (softmax): Softmax(dim=1)\n",
       ")"
      ]
     },
     "execution_count": 13,
     "metadata": {},
     "output_type": "execute_result"
    }
   ],
   "source": [
    "def init_weights(m):\n",
    "    for name, param in m.named_parameters():\n",
    "        torch.nn.init.uniform_(param.data, -0.08, 0.08)\n",
    "        \n",
    "model.apply(init_weights)"
   ]
  },
  {
   "cell_type": "code",
   "execution_count": 14,
   "id": "cdd02630",
   "metadata": {},
   "outputs": [
    {
     "name": "stdout",
     "output_type": "stream",
     "text": [
      "The model has 5,999,401 trainable parameters\n"
     ]
    }
   ],
   "source": [
    "def count_parameters(model):\n",
    "    return sum(p.numel() for p in model.parameters() if p.requires_grad)\n",
    "\n",
    "print(f'The model has {count_parameters(model):,} trainable parameters')"
   ]
  },
  {
   "cell_type": "code",
   "execution_count": 15,
   "id": "1cca5af5",
   "metadata": {},
   "outputs": [],
   "source": [
    "lr = 0.001\n",
    "optimizer = torch.optim.Adam(model.parameters(), lr=lr)\n",
    "loss_fn = torch.nn.BCEWithLogitsLoss().to(device)"
   ]
  },
  {
   "cell_type": "code",
   "execution_count": 16,
   "id": "4c245b28",
   "metadata": {},
   "outputs": [],
   "source": [
    "def train(model, dataloader, optimizer, loss_fn):\n",
    "    model.train()\n",
    "    epoch_loss = 0\n",
    "    y_true = []\n",
    "    y_pred = []\n",
    "    \n",
    "    for x, y, x_lens in tqdm(dataloader):\n",
    "        # x = [batch_size, seq_len]\n",
    "        # y = [batch_size, seq_len]\n",
    "        \n",
    "        x, y = x.to(device), y.to(device)\n",
    "        optimizer.zero_grad()\n",
    "        output = model(x, x_lens)\n",
    "        #y = y.squeeze().view(-1).to(device)\n",
    "        #print(output.shape, y.shape)\n",
    "        loss = loss_fn(output.squeeze(), y)\n",
    "        loss.backward()\n",
    "        optimizer.step()\n",
    "\n",
    "        epoch_loss += loss.item()\n",
    "        y_true.extend(y.detach().cpu().numpy())\n",
    "        binary_preds = torch.round(torch.sigmoid(output.squeeze()))\n",
    "        y_pred.extend(binary_preds.detach().cpu().numpy())\n",
    "        \n",
    "    acc = accuracy_score(y_true, y_pred)\n",
    "    f1 = f1_score(y_true, y_pred,average='binary')\n",
    "    return epoch_loss / len(dataloader), acc, f1"
   ]
  },
  {
   "cell_type": "code",
   "execution_count": 17,
   "id": "351b0e36",
   "metadata": {},
   "outputs": [],
   "source": [
    "def evaluate(model, dataloader, loss_fn):\n",
    "    model.eval()\n",
    "    epoch_loss = 0\n",
    "    y_true = []\n",
    "    y_pred = []\n",
    "\n",
    "    with torch.no_grad():\n",
    "        for x, y, x_lens in tqdm(dataloader):\n",
    "            # x = [batch_size, seq_len]\n",
    "            # y = [batch_size, seq_len]\n",
    "            \n",
    "            x, y = x.to(device), y.to(device)\n",
    "            output = model(x, x_lens)\n",
    "            #y = y.view(-1).to(device)\n",
    "\n",
    "            loss = loss_fn(output.squeeze(), y)\n",
    "            epoch_loss += loss.item()\n",
    "\n",
    "            y_true.extend(y.detach().cpu().numpy())\n",
    "            binary_preds = torch.round(torch.sigmoid(output.squeeze()))\n",
    "            y_pred.extend(binary_preds.detach().cpu().numpy())\n",
    "        acc = accuracy_score(y_true, y_pred)\n",
    "        f1 = f1_score(y_true, y_pred,average='binary')\n",
    "    return epoch_loss / len(dataloader), acc, f1"
   ]
  },
  {
   "cell_type": "code",
   "execution_count": 18,
   "id": "ea19e4af",
   "metadata": {},
   "outputs": [
    {
     "name": "stderr",
     "output_type": "stream",
     "text": [
      "100%|██████████████████████████████████████████████████████████████████████████████████| 90/90 [00:13<00:00,  6.84it/s]\n",
      "100%|██████████████████████████████████████████████████████████████████████████████████| 23/23 [00:00<00:00, 35.83it/s]\n"
     ]
    },
    {
     "name": "stdout",
     "output_type": "stream",
     "text": [
      "Epoch: 01\n",
      "\tTrain Loss: 0.227 | Train Acc: 89.94%\n",
      "\t Val. Loss: 0.069 |  Val. Acc: 97.47%\n"
     ]
    },
    {
     "name": "stderr",
     "output_type": "stream",
     "text": [
      "100%|██████████████████████████████████████████████████████████████████████████████████| 90/90 [00:01<00:00, 46.58it/s]\n",
      "100%|██████████████████████████████████████████████████████████████████████████████████| 23/23 [00:00<00:00, 95.04it/s]\n"
     ]
    },
    {
     "name": "stdout",
     "output_type": "stream",
     "text": [
      "Epoch: 02\n",
      "\tTrain Loss: 0.025 | Train Acc: 99.14%\n",
      "\t Val. Loss: 0.071 |  Val. Acc: 97.64%\n"
     ]
    },
    {
     "name": "stderr",
     "output_type": "stream",
     "text": [
      "100%|██████████████████████████████████████████████████████████████████████████████████| 90/90 [00:01<00:00, 46.84it/s]\n",
      "100%|██████████████████████████████████████████████████████████████████████████████████| 23/23 [00:00<00:00, 94.01it/s]\n"
     ]
    },
    {
     "name": "stdout",
     "output_type": "stream",
     "text": [
      "Epoch: 03\n",
      "\tTrain Loss: 0.006 | Train Acc: 99.87%\n",
      "\t Val. Loss: 0.104 |  Val. Acc: 97.52%\n"
     ]
    },
    {
     "name": "stderr",
     "output_type": "stream",
     "text": [
      "100%|██████████████████████████████████████████████████████████████████████████████████| 90/90 [00:01<00:00, 47.90it/s]\n",
      "100%|██████████████████████████████████████████████████████████████████████████████████| 23/23 [00:00<00:00, 97.46it/s]\n"
     ]
    },
    {
     "name": "stdout",
     "output_type": "stream",
     "text": [
      "Epoch: 04\n",
      "\tTrain Loss: 0.001 | Train Acc: 99.97%\n",
      "\t Val. Loss: 0.125 |  Val. Acc: 97.52%\n"
     ]
    },
    {
     "name": "stderr",
     "output_type": "stream",
     "text": [
      "100%|██████████████████████████████████████████████████████████████████████████████████| 90/90 [00:02<00:00, 44.60it/s]\n",
      "100%|██████████████████████████████████████████████████████████████████████████████████| 23/23 [00:00<00:00, 78.77it/s]\n"
     ]
    },
    {
     "name": "stdout",
     "output_type": "stream",
     "text": [
      "Epoch: 05\n",
      "\tTrain Loss: 0.001 | Train Acc: 99.98%\n",
      "\t Val. Loss: 0.144 |  Val. Acc: 97.22%\n"
     ]
    }
   ],
   "source": [
    "N_EPOCHS = 5\n",
    "train_losses = []\n",
    "train_accs = []\n",
    "train_f1s = []\n",
    "val_losses = []\n",
    "val_accs = []\n",
    "val_f1s = []\n",
    "best_valid_f1 = 0.0\n",
    "best_model_save_path = os.path.join(root_path, \"model\", \"LSTM_attention.pt\")\n",
    "\n",
    "for epoch in range(N_EPOCHS): \n",
    "    dataset.set_split('train')\n",
    "    train_loss, train_acc, train_f1 = train(model, data_loader, optimizer, loss_fn)\n",
    "    train_losses.append(train_loss)\n",
    "    train_accs.append(train_acc)\n",
    "    train_f1s.append(train_f1)\n",
    "\n",
    "    dataset.set_split('val')\n",
    "    valid_loss, val_acc, val_f1 = evaluate(model, data_loader, loss_fn)\n",
    "    val_losses.append(valid_loss)\n",
    "    val_accs.append(val_acc)\n",
    "    val_f1s.append(val_f1)\n",
    "\n",
    "    if val_f1 > best_valid_f1:\n",
    "        val_f1 = best_valid_f1\n",
    "        torch.save(model, best_model_save_path)\n",
    "\n",
    "    print(f'Epoch: {epoch+1:02}')\n",
    "    print(f'\\tTrain Loss: {train_loss:.3f} | Train Acc: {train_acc*100:.2f}%')\n",
    "    print(f'\\t Val. Loss: {valid_loss:.3f} |  Val. Acc: {val_acc*100:.2f}%')"
   ]
  },
  {
   "cell_type": "code",
   "execution_count": 19,
   "id": "cc665f17",
   "metadata": {},
   "outputs": [
    {
     "data": {
      "image/png": "[encoded data removed]",
      "text/plain": [
       "<Figure size 640x480 with 1 Axes>"
      ]
     },
     "metadata": {},
     "output_type": "display_data"
    }
   ],
   "source": [
    "plt.plot(np.arange(1, N_EPOCHS+1), train_losses, label = \"Train_loss\")\n",
    "plt.plot(np.arange(1, N_EPOCHS+1), val_losses, label = \"Val_loss\")\n",
    "plt.xlabel(\"Epochs\")\n",
    "plt.ylabel(\"Loss\")\n",
    "plt.title(\"Loss Curve\")\n",
    "plt.legend()\n",
    "plt.show()"
   ]
  },
  {
   "cell_type": "code",
   "execution_count": 20,
   "id": "982de3d9",
   "metadata": {},
   "outputs": [
    {
     "data": {
      "image/png": "[encoded data removed]",
      "text/plain": [
       "<Figure size 640x480 with 1 Axes>"
      ]
     },
     "metadata": {},
     "output_type": "display_data"
    }
   ],
   "source": [
    "plt.plot(np.arange(1, N_EPOCHS+1), train_accs, label = \"Train_Acuuracy\")\n",
    "plt.plot(np.arange(1, N_EPOCHS+1), val_accs, label = \"Val_Accuracy\")\n",
    "plt.xlabel(\"Epochs\")\n",
    "plt.ylabel(\"Accuracy\")\n",
    "plt.title(\"Accuracy Curve\")\n",
    "plt.legend()\n",
    "plt.show()"
   ]
  },
  {
   "cell_type": "code",
   "execution_count": 21,
   "id": "f859b421",
   "metadata": {},
   "outputs": [
    {
     "data": {
      "image/png": "[encoded data removed]",
      "text/plain": [
       "<Figure size 640x480 with 1 Axes>"
      ]
     },
     "metadata": {},
     "output_type": "display_data"
    }
   ],
   "source": [
    "plt.plot(np.arange(1, N_EPOCHS+1), train_f1s, label = \"Train_F1\")\n",
    "plt.plot(np.arange(1, N_EPOCHS+1), val_f1s, label = \"Val_F1\")\n",
    "plt.xlabel(\"Epochs\")\n",
    "plt.ylabel(\"F1 Score\")\n",
    "plt.title(\"F1 Curve\")\n",
    "plt.legend()\n",
    "plt.show()"
   ]
  },
  {
   "cell_type": "code",
   "execution_count": 22,
   "id": "d99e23d2",
   "metadata": {},
   "outputs": [
    {
     "name": "stderr",
     "output_type": "stream",
     "text": [
      "100%|██████████████████████████████████████████████████████████████████████████████████| 13/13 [00:00<00:00, 66.67it/s]"
     ]
    },
    {
     "name": "stdout",
     "output_type": "stream",
     "text": [
      "Test Loss: 0.129 | Test Acc: 97.22% | Test F1: 97.20%\n"
     ]
    },
    {
     "name": "stderr",
     "output_type": "stream",
     "text": [
      "\n"
     ]
    }
   ],
   "source": [
    "dataset.set_split('test')\n",
    "\n",
    "test_loss, test_acc, test_f1 = evaluate(model, data_loader, loss_fn)\n",
    "print(f'Test Loss: {test_loss:.3f} | Test Acc: {test_acc*100:.2f}% | Test F1: {test_f1*100:.2f}%')"
   ]
  },
  {
   "cell_type": "code",
   "execution_count": null,
   "id": "8f931ca4",
   "metadata": {},
   "outputs": [],
   "source": []
  }
 ],
 "metadata": {
  "kernelspec": {
   "display_name": "Python 3 (ipykernel)",
   "language": "python",
   "name": "python3"
  },
  "language_info": {
   "codemirror_mode": {
    "name": "ipython",
    "version": 3
   },
   "file_extension": ".py",
   "mimetype": "text/x-python",
   "name": "python",
   "nbconvert_exporter": "python",
   "pygments_lexer": "ipython3",
   "version": "3.9.13"
  }
 },
 "nbformat": 4,
 "nbformat_minor": 5
}
